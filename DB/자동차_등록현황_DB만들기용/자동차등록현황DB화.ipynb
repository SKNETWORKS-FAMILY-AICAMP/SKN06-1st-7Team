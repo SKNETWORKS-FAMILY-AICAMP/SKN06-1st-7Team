{
 "cells": [
  {
   "cell_type": "code",
   "execution_count": 1,
   "id": "35fd4128-a959-4158-a9ad-713014003978",
   "metadata": {},
   "outputs": [],
   "source": [
    "## table 만들기\n",
    "\n",
    "# 기간(month_year) table\n",
    "create_MY = \"\"\"\n",
    "create table MY(\n",
    "  MY_id  varchar(20)  primary key,\n",
    "  year varchar(20),\n",
    "  month varchar(20)\n",
    ")\n",
    "\"\"\"\n",
    "# 정확하지 않다. \n",
    "\n",
    "# type table\n",
    "create_type = \"\"\"\n",
    "create table type(\n",
    "  type_id  int  auto_increment  primary key,\n",
    "  type_name  varchar(20) not null unique\n",
    ")\n",
    "\"\"\"\n",
    "\n",
    "# Purpose of Car = PC table \n",
    "create_PC = \"\"\"\n",
    "create table PC(\n",
    "  PC_id  int  auto_increment  primary key,\n",
    "  PC_name  varchar(20) not null unique\n",
    ")\n",
    "\"\"\"\n",
    "\n",
    "# gu table \n",
    "create_gu = \"\"\"\n",
    "create table gu(\n",
    "  gu_id int auto_increment  primary key,\n",
    "  gu_name varchar(20) unique\n",
    ")\n",
    "\"\"\"\n",
    "\n",
    "# 자동차 등록 대수(main)\n",
    "create_number = \"\"\"\n",
    "create table number(\n",
    "  number_id  int  auto_increment  primary key,\n",
    "  gu_name  varchar(20),\n",
    "  MY_id  varchar(20), \n",
    "  type_id int,\n",
    "  PC_id int,\n",
    "  the_number_of_registered_vehicle int,\n",
    "\n",
    "  CONSTRAINT fk_number_gu FOREIGN KEY (gu_name) REFERENCES gu(gu_name) ON DELETE SET NULL,\n",
    "  CONSTRAINT fk_number_MY FOREIGN KEY (MY_id) REFERENCES MY(MY_id) ON DELETE SET NULL,\n",
    "  CONSTRAINT fk_number_type FOREIGN KEY (type_id) REFERENCES type(type_id) ON DELETE SET NULL,\n",
    "  CONSTRAINT fk_number_usage FOREIGN KEY (PC_id) REFERENCES PC(PC_id) ON DELETE SET NULL\n",
    ")\n",
    "\"\"\""
   ]
  },
  {
   "cell_type": "code",
   "execution_count": 2,
   "id": "fa56b3f4-e7e1-47a5-a686-e8b0164c28ec",
   "metadata": {},
   "outputs": [],
   "source": [
    "import pymysql\n",
    "import configparser as parser\n",
    "\n",
    "# database의 내용을 parser로 읽어와서 코드에서는 정보가 드러나지 않도록 하고 싶습니다. \n",
    "# 그에 따른 조치사항으로 parser를 import 했습니다.  \n",
    "\n",
    "try:\n",
    "    conn = None\n",
    "    \n",
    "    props = parser.ConfigParser()  # parser 생성\n",
    "    props.read(\"C:/Users/Playdata/Desktop/SK AI camp_6기_조하늘/SKN06-1st-7Team/config.ini.ini\")     # ini 파일 읽기 / 절대 경로로 변환\n",
    "    config = props['skn06-1st-7team']        # section이름으로 읽기\n",
    "    \n",
    "    # 1. Database와 연결.\n",
    "    conn = pymysql.connect(\n",
    "        host=config['host'],    # DBMS 의 ip(host) : str\n",
    "        port=3306,           # DBMS의 port 번호: int\n",
    "        user=config['user'],        # username: str\n",
    "        password=config['password'],    # password: str\n",
    "        db=config['db']            #  연결할 Database이름: str\n",
    "    )  # 연결 성공하면 연결된 DB와 관련 작업할 수있는 기능을 제공하는 Connection객체를 반환\n",
    "    \n",
    "    # 2. Connection을 사용해서 Cursor 객체 생성\n",
    "    #    Cursor: sql 처리를 하는 기능을 제공.( sql 전송하고 처리결과를 받을 때까지를 관리)\n",
    "    cursor = conn.cursor()\n",
    "        \n",
    "    # 3. table 생성\n",
    "    cursor.execute(\"drop table if exists number\") \n",
    "    cursor.execute(\"drop table if exists gu\") \n",
    "    cursor.execute(\"drop table if exists MY\") \n",
    "    cursor.execute(\"drop table if exists type\") \n",
    "    cursor.execute(\"drop table if exists PC\") \n",
    "    cursor.execute(create_MY)\n",
    "    cursor.execute(create_type)\n",
    "    cursor.execute(create_PC)\n",
    "    cursor.execute(create_gu)\n",
    "    cursor.execute(create_number)\n",
    "    \n",
    "finally:\n",
    "    # 4. 연결닫기(끊기)\n",
    "    if conn: # conn != None\n",
    "        cursor.close() # 4-1. cursor 연결 닫기\n",
    "        conn.close()  # 4-2. connection 연결 닫기"
   ]
  },
  {
   "cell_type": "code",
   "execution_count": 3,
   "id": "6028e0ac-dfbe-46c1-8e5e-879780541ba9",
   "metadata": {},
   "outputs": [],
   "source": [
    "## csv 파일 읽기\n",
    "import csv\n",
    "\n",
    "with open('자동차현황_변형.csv', 'r', encoding='ANSI') as file:\n",
    "    csv_reader = csv.reader(file)\n",
    "    data = list(csv_reader)\n",
    "\n",
    "# data는 이제 CSV 파일의 내용을 담은 리스트입니다.\n"
   ]
  },
  {
   "cell_type": "code",
   "execution_count": 4,
   "id": "57c31c95-d636-4c5c-9ba4-6caf7ce99f46",
   "metadata": {},
   "outputs": [
    {
     "data": {
      "text/plain": [
       "6706"
      ]
     },
     "execution_count": 4,
     "metadata": {},
     "output_type": "execute_result"
    }
   ],
   "source": [
    "# data[0],data[1]은 열의 이름을 나타내고 data[2]부터 지역별 등록 대수를 나타냄\n",
    "len(data) # 6708 x 22 행"
   ]
  },
  {
   "cell_type": "code",
   "execution_count": 5,
   "id": "8226ac29-ab6f-4934-b0aa-9283a3b1632b",
   "metadata": {},
   "outputs": [
    {
     "name": "stdout",
     "output_type": "stream",
     "text": [
      "insert된 총 행수: 25\n"
     ]
    }
   ],
   "source": [
    "# MY table 받기\n",
    "# 서울 데이터만 불러오고 싶다. 각 구 이름이 있는 위치는 data[i][1] i > 1 이다. 그렇다면 data[i][1] == \"서울\" 인 것만 담는다.\n",
    "\n",
    "# 참고\n",
    "# create_MY = \"\"\"\n",
    "# create table MY(\n",
    "#   MY_id  varchar(20)  primary key,\n",
    "#   year varchar(20),\n",
    "#   month varchar(20)\n",
    "# )\n",
    "# \"\"\"\n",
    "\n",
    "i = 0\n",
    "data_MY = [] # sql에 최종적으로 넣을 값. 중복 제거 \n",
    "\n",
    "\n",
    "for i in range(6706): # 자동차현황_변형은 총 6706개의 행을 가지고 있다. /gu_table\n",
    "    if data[i][1] == \"서울\":\n",
    "        # data 분류 필요\n",
    "        insert_list = [] # 변환되는 값.\n",
    "        year:str = None\n",
    "        month:str = None\n",
    "        insert_list.append(data[i][0]) # 월\n",
    "        year = insert_list[0][:4]\n",
    "        month = insert_list[0][-2:]\n",
    "        insert_list.append(year)\n",
    "        insert_list.append(month)\n",
    "        data_MY.append(list(insert_list))\n",
    "        \n",
    "\n",
    "# 중복 제거\n",
    "result_MY = []\n",
    "for value in data_MY:\n",
    "    if value not in result_MY:\n",
    "        result_MY.append(value)\n",
    "\n",
    "\n",
    " # insert 하기\n",
    "insert_sql = \"\"\"insert into MY(MY_id, year, month) values(%s, %s, %s)\"\"\"\n",
    "\n",
    "with pymysql.connect(host=config['host'],\n",
    "                     port=3306, user=config['user'],\n",
    "                     password=config['password'],\n",
    "                     db=config['db']) as conn:\n",
    "    with conn.cursor() as cursor:\n",
    "        cnt = cursor.executemany(insert_sql, result_MY)  # executemany() 결과 행수 반환.\n",
    "        conn.commit()\n",
    "        \n",
    "\n",
    "print(\"insert된 총 행수:\", cnt)"
   ]
  },
  {
   "cell_type": "code",
   "execution_count": 6,
   "id": "de678379-cf7f-486c-a96a-b3a8702aa877",
   "metadata": {},
   "outputs": [
    {
     "name": "stdout",
     "output_type": "stream",
     "text": [
      "insert된 총 행수: 4\n"
     ]
    }
   ],
   "source": [
    "# type table 받기\n",
    "# 서울 데이터만 불러오고 싶다. 각 구 이름이 있는 위치는 data[i][1] i > 1 이다. 그렇다면 data[i][1] == \"서울\" 인 것만 담는다.\n",
    "\n",
    "# 참고\n",
    "# create table type(\n",
    "#   type_id  int  auto_increment  primary key,\n",
    "#   type_name  varchar(20) not null unique\n",
    "# )\n",
    "# \"\"\"\n",
    "\n",
    "data_type = [\"승용\", \"승합\", \"화물\", \"특수\"]\n",
    " # sql에 최종적으로 넣을 값\n",
    " # insert 하기\n",
    "insert_sql = \"\"\"insert into type(type_name) values(%s)\"\"\"\n",
    "\n",
    "with pymysql.connect(host=config['host'],\n",
    "                     port=3306, user=config['user'],\n",
    "                     password=config['password'],\n",
    "                     db=config['db']) as conn:\n",
    "    with conn.cursor() as cursor:\n",
    "        cnt = cursor.executemany(insert_sql, data_type)  # executemany() 결과 행수 반환.\n",
    "        conn.commit()\n",
    "        \n",
    "\n",
    "print(\"insert된 총 행수:\", cnt)"
   ]
  },
  {
   "cell_type": "code",
   "execution_count": 7,
   "id": "07d8c884-ae70-4729-beef-72d81e5ac66a",
   "metadata": {},
   "outputs": [
    {
     "name": "stdout",
     "output_type": "stream",
     "text": [
      "insert된 총 행수: 3\n"
     ]
    }
   ],
   "source": [
    "# PC table 받기\n",
    "# 서울 데이터만 불러오고 싶다. 각 구 이름이 있는 위치는 data[i][1] i > 1 이다. 그렇다면 data[i][1] == \"서울\" 인 것만 담는다.\n",
    "\n",
    "# 참고\n",
    "# create table PC(\n",
    "#   PC_id  int  auto_increment  primary key,\n",
    "#   PC_name  varchar(20) not null unique\n",
    "# )\n",
    "# \"\"\"\n",
    "\n",
    "data_PC = [\"관용\", \"자가용\", \"영업용\"]\n",
    " # sql에 최종적으로 넣을 값\n",
    " # insert 하기\n",
    "insert_sql = \"\"\"insert into PC(PC_name) values(%s)\"\"\"\n",
    "\n",
    "with pymysql.connect(host=config['host'],\n",
    "                     port=3306, user=config['user'],\n",
    "                     password=config['password'],\n",
    "                     db=config['db']) as conn:\n",
    "    with conn.cursor() as cursor:\n",
    "        cnt = cursor.executemany(insert_sql, data_PC)  # executemany() 결과 행수 반환.\n",
    "        conn.commit()\n",
    "        \n",
    "\n",
    "print(\"insert된 총 행수:\", cnt)"
   ]
  },
  {
   "cell_type": "code",
   "execution_count": 8,
   "id": "eda84141-1876-4d7f-b94f-3b080380512c",
   "metadata": {},
   "outputs": [
    {
     "name": "stdout",
     "output_type": "stream",
     "text": [
      "insert된 총 행수: 25\n"
     ]
    }
   ],
   "source": [
    "# gu table 받기\n",
    "# 서울 데이터만 불러오고 싶다. 각 구 이름이 있는 위치는 data[i][1] i > 1 이다. 그렇다면 data[i][1] == \"서울\" 인 것만 담는다.\n",
    "\n",
    "# 참고\n",
    "# create table gu(\n",
    "#   gu_id  varchar(20)  primary key)\n",
    "\n",
    "data_gu = [] # sql에 최종적으로 넣을 값.\n",
    "\n",
    "\n",
    "for i in range(6706): # 자동차현황_변형은 총 6706개의 행을 가지고 있다. /gu_table\n",
    "    if data[i][1] == \"서울\":\n",
    "        # data 분류 필요\n",
    "        data_gu.append(data[i][2])\n",
    "\n",
    "result_gu = []\n",
    "# data 중복되는 값 제거 \n",
    "for values in data_gu:\n",
    "    if values not in result_gu:\n",
    "        result_gu.append(values)\n",
    "\n",
    "\n",
    "# '계'로 삽입된 행 제거 \n",
    "result_gu.pop() # 가장 마지막에 있는 행으로 제거. \n",
    "\n",
    "# insert 하기\n",
    "insert_sql = \"\"\"insert into gu(gu_name) values(%s)\"\"\"\n",
    "\n",
    "with pymysql.connect(host=config['host'],\n",
    "                     port=3306, user=config['user'],\n",
    "                     password=config['password'],\n",
    "                     db=config['db']) as conn:\n",
    "    with conn.cursor() as cursor:\n",
    "        cnt = cursor.executemany(insert_sql, result_gu)  # executemany() 결과 행수 반환.\n",
    "        conn.commit()\n",
    "        \n",
    "\n",
    "print(\"insert된 총 행수:\", cnt)"
   ]
  },
  {
   "cell_type": "code",
   "execution_count": 25,
   "id": "8c95cf5b-adad-46d3-bc4f-f5e696afc057",
   "metadata": {},
   "outputs": [
    {
     "name": "stdout",
     "output_type": "stream",
     "text": [
      "실행 완료\n"
     ]
    }
   ],
   "source": [
    "# number table 받기\n",
    "# 서울 데이터만 불러오고 싶다. 각 구 이름이 있는 위치는 data[i][1] i > 1 이다. 그렇다면 data[i][1] == \"서울\" 인 것만 담는다.\n",
    "\n",
    "# 참고\n",
    "# create_number = \"\"\"\n",
    "# create table number(\n",
    "#   number_id  int  auto_increment  primary key,\n",
    "#   gu_name  varchar(20),\n",
    "#   MY_id  varchar(20), \n",
    "#   type_id int,\n",
    "#   PC_id int,\n",
    "#   the_number_of_registered_vehicle int,\n",
    "\n",
    "#   CONSTRAINT fk_number_gu FOREIGN KEY (gu_name) REFERENCES gu(gu_name) ON DELETE SET NULL,\n",
    "#   CONSTRAINT fk_number_MY FOREIGN KEY (MY_id) REFERENCES MY(MY_id) ON DELETE SET NULL,\n",
    "#   CONSTRAINT fk_number_type FOREIGN KEY (type_id) REFERENCES type(type_id) ON DELETE SET NULL,\n",
    "#   CONSTRAINT fk_number_usage FOREIGN KEY (PC_id) REFERENCES PC(PC_id) ON DELETE SET NULL\n",
    "# )\n",
    "# \"\"\"\n",
    "data_number = [] # sql에 최종적으로 넣을 값.\n",
    "\n",
    "\n",
    "for i in range(len(data)): # 자동차현황_변형은 총 6706개의 행을 가지고 있다. /gu_table\n",
    "    if data[i][1] == \"서울\":\n",
    "        # data 분류 필요\n",
    "        insert_list = [] # 변환되는 값.\n",
    "        if data[i][2] == \"계\":\n",
    "            continue  # 실행되면 안 되기 때문에 continue로 다음 iteration으로 넘긴다. \n",
    "        else:\n",
    "            insert_list.append(data[i][2]) # 구 이름 삽입 및 구 이름이 '계'로 된 행은 받지 않는다. \n",
    "            insert_list.append(data[i][0]) # 월\n",
    "        for j in range(4): # 차종에 따른 분류, 1:승용, 2:승합, 3:화물, 4:수수\n",
    "            if len(insert_list) > 2:\n",
    "                insert_list.pop()\n",
    "                insert_list.pop()\n",
    "                insert_list.pop()\n",
    "                insert_list.append(j+1) # 차종 입력\n",
    "            else: # 첫시행\n",
    "                insert_list.append(j+1) # 차종 입력\n",
    "                            \n",
    "            for v in range(3): # 용도 분류, 1:관용, 2:자가용, 3: 영업용\n",
    "                if len(insert_list) > 3:# 4,5번 값이 존재할 경우\n",
    "                    insert_list.pop()\n",
    "                    insert_list.pop()# 2개의 값을 지워준다.\n",
    "                    insert_list.append(v+1) # 용도 입력\n",
    "                    insert_list.append(int(data[i][4*j + 3 + v])) # data에서 조건에 맞는 차 넘버수 불러오기\n",
    "                    data_number.append(list(insert_list)) # data_handled 에 넣기 \n",
    "                else: # 첫시행\n",
    "                    insert_list.append(v+1) # 용도 입력\n",
    "                    insert_list.append(int(data[i][4*j + 3 + v])) # data에서 조건에 맞는 차 넘버수 불러오기\n",
    "                    data_number.append(list(insert_list))\n",
    "    else: \n",
    "        pass\n",
    "\n",
    "len(data_number)\n",
    "\n",
    "# insert 하기\n",
    "insert_sql = \"\"\"insert into number(gu_name, MY_id, type_id, PC_id, the_number_of_registered_vehicle) \n",
    "            values(%s, %s, %s, %s, %s)\"\"\"\n",
    "\n",
    "with pymysql.connect(host=config['host'],\n",
    "                     port=3306, user=config['user'],\n",
    "                     password=config['password'],\n",
    "                     db=config['db'],\n",
    "                     max_allowed_packet=67108864000  # 64MB\n",
    "                     ) as conn:\n",
    "    with conn.cursor() as cursor:\n",
    "        batch_size = 500\n",
    "        for i in range(0, len(data_number), batch_size):\n",
    "            batch = data_number[i:i+batch_size]\n",
    "            cursor.executemany(insert_sql, batch)\n",
    "            conn.commit()\n",
    "        # cnt = cursor.executemany(insert_sql, data_number)  # executemany() 결과 행수 반환.\n",
    "        # conn.commit()\n",
    "        \n",
    "\n",
    "# print(\"insert된 총 행수:\", cnt)\n",
    "print(\"실행 완료\") # 1000까지 입력이 되었다. "
   ]
  },
  {
   "cell_type": "code",
   "execution_count": 13,
   "id": "dbf40d28-7366-4906-b7ab-060c4b08a0dd",
   "metadata": {},
   "outputs": [
    {
     "data": {
      "text/plain": [
       "7500"
      ]
     },
     "execution_count": 13,
     "metadata": {},
     "output_type": "execute_result"
    }
   ],
   "source": [
    "len(data_number) # 7500개가 있으니 data_number list를 8개로 나누자. 단위는 1000"
   ]
  },
  {
   "cell_type": "code",
   "execution_count": 21,
   "id": "c19146eb-852b-4adb-a9f4-60392502e7ad",
   "metadata": {},
   "outputs": [
    {
     "name": "stdout",
     "output_type": "stream",
     "text": [
      "[['노원구', '2022-03', 2, 2, 134], ['노원구', '2022-03', 2, 3, 502], ['노원구', '2022-03', 3, 1, 3], ['노원구', '2022-03', 3, 2, 858], ['노원구', '2022-03', 3, 3, 848]]\n",
      "--------------------------------------------------\n",
      "['노원구', '2022-03', 2, 1, 561]\n",
      "--------------------------------------------------\n",
      "['노원구', '2022-03', 2, 2, 134]\n",
      "실행 완료\n"
     ]
    }
   ],
   "source": [
    "# 1000-1999\n",
    "data_number_2 = []\n",
    "data_number_2 = data_number[1000:2000]\n",
    "print(data_number_2[:5])\n",
    "print(\"-\"*50)\n",
    "print(data_number[999])\n",
    "print(\"-\"*50)\n",
    "print(data_number[1000])\n",
    "\n",
    "# list insert for data_number_2\n",
    "# insert 하기\n",
    "insert_sql = \"\"\"insert into number(gu_name, MY_id, type_id, PC_id, the_number_of_registered_vehicle) \n",
    "            values(%s, %s, %s, %s, %s)\"\"\"\n",
    "\n",
    "with pymysql.connect(host=config['host'],\n",
    "                     port=3306, user=config['user'],\n",
    "                     password=config['password'],\n",
    "                     db=config['db'],\n",
    "                     ) as conn:\n",
    "    with conn.cursor() as cursor:\n",
    "        # batch_size = 500\n",
    "        # for i in range(0, len(data_number), batch_size):\n",
    "        #     batch = data_number[i:i+batch_size]\n",
    "        #     cursor.executemany(insert_sql, batch)\n",
    "        #     conn.commit()\n",
    "        cnt = cursor.executemany(insert_sql, data_number_2)  # executemany() 결과 행수 반환.\n",
    "        conn.commit()\n",
    "        \n",
    "\n",
    "# print(\"insert된 총 행수:\", cnt)\n",
    "print(\"실행 완료\") # 1000까지 입력이 되었다. "
   ]
  },
  {
   "cell_type": "code",
   "execution_count": 24,
   "id": "dbd398c0-9781-45ef-9cc7-4f8c9ca44da5",
   "metadata": {},
   "outputs": [
    {
     "data": {
      "text/plain": [
       "['성북구', '2022-06', 3, 2, 201]"
      ]
     },
     "execution_count": 24,
     "metadata": {},
     "output_type": "execute_result"
    }
   ],
   "source": [
    "len(data_number_2)\n",
    "data_number_2[999]"
   ]
  },
  {
   "cell_type": "code",
   "execution_count": null,
   "id": "65585f29-a1cf-4d19-9257-f60258e31eca",
   "metadata": {},
   "outputs": [],
   "source": []
  }
 ],
 "metadata": {
  "kernelspec": {
   "display_name": "Python 3 (ipykernel)",
   "language": "python",
   "name": "python3"
  },
  "language_info": {
   "codemirror_mode": {
    "name": "ipython",
    "version": 3
   },
   "file_extension": ".py",
   "mimetype": "text/x-python",
   "name": "python",
   "nbconvert_exporter": "python",
   "pygments_lexer": "ipython3",
   "version": "3.12.4"
  }
 },
 "nbformat": 4,
 "nbformat_minor": 5
}
