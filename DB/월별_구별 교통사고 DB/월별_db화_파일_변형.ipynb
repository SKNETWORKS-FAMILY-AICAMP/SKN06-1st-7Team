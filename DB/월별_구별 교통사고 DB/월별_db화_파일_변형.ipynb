{
 "cells": [
  {
   "cell_type": "code",
   "execution_count": 4,
   "id": "f8eae7fd-427b-4940-a4af-6b6590a75dbe",
   "metadata": {},
   "outputs": [
    {
     "name": "stdout",
     "output_type": "stream",
     "text": [
      "['', '2021', '12월', '66', '77', '127', '116', '188', '104', '105', '322', '78', '251', '181', '77', '109', '117', '121', '51', '94', '86', '77', '103', '108', '133', '51', '48', '79']\n"
     ]
    }
   ],
   "source": [
    "# 파일 읽어보기\n",
    "\n",
    "## csv 파일 읽기\n",
    "import csv\n",
    "\n",
    "with open('월별_구별 교통사고.csv', 'r', encoding='utf-8') as file:\n",
    "    csv_reader = csv.reader(file)\n",
    "    data = list(csv_reader)\n",
    "\n",
    "# data는 이제 CSV 파일의 내용을 담은 리스트입니다.\n",
    "data[2:6]\n",
    "print(data[3]) # 0:' ', 1:'year', 2:'month', 3-28:'사고수'\n",
    "# 파악 완료"
   ]
  },
  {
   "cell_type": "code",
   "execution_count": 23,
   "id": "0ae16744-136d-40e2-aa0d-8feac4173bc8",
   "metadata": {},
   "outputs": [],
   "source": [
    "## table sql 만들기\n",
    "\n",
    "# 기간(month_year) table\n",
    "create_MY = \"\"\"\n",
    "create table MY(\n",
    "  MY_id  varchar(20)  primary key,\n",
    "  year varchar(20),\n",
    "  month varchar(20)\n",
    ")\n",
    "\"\"\"\n",
    "\n",
    "# gu table \n",
    "create_gu = \"\"\"\n",
    "create table gu(\n",
    "  gu_id int auto_increment  primary key,\n",
    "  gu_name varchar(20) unique\n",
    ")\n",
    "\"\"\"\n",
    "\n",
    "#  사고발생 수(main)\n",
    "create_number = \"\"\"\n",
    "create table number(\n",
    "  number_id  int  auto_increment  primary key,\n",
    "  gu_id  int,\n",
    "  MY_id  varchar(20), \n",
    "  the_number_of_car_accident int,\n",
    "\n",
    "  CONSTRAINT fk_number_gu FOREIGN KEY (gu_id) REFERENCES gu(gu_id) ON DELETE SET NULL,\n",
    "  CONSTRAINT fk_number_MY FOREIGN KEY (MY_id) REFERENCES MY(MY_id) ON DELETE SET NULL\n",
    ")\n",
    "\"\"\""
   ]
  },
  {
   "cell_type": "code",
   "execution_count": 24,
   "id": "9128a645-96f9-4f43-964f-389bf4c42a96",
   "metadata": {},
   "outputs": [
    {
     "name": "stdout",
     "output_type": "stream",
     "text": [
      "실행 완료\n"
     ]
    }
   ],
   "source": [
    "import pymysql\n",
    "import configparser as parser\n",
    "\n",
    "# database의 내용을 parser로 읽어와서 코드에서는 정보가 드러나지 않도록 하고 싶습니다. \n",
    "# 그에 따른 조치사항으로 parser를 import 했습니다.  \n",
    "\n",
    "try:\n",
    "    conn = None\n",
    "    \n",
    "    props = parser.ConfigParser()  # parser 생성\n",
    "    props.read(\"C:/Users/Playdata/Desktop/SK AI camp_6기_조하늘/SKN06-1st-7Team/월별_구별 교통사고 DB/config_car_accident_변형.ini\") \n",
    "    # ini 파일 읽기 / 절대 경로로 변환\n",
    "    config = props['skn06-1st-7team'] # section이름으로 읽기\n",
    "    \n",
    "    # 1. Database와 연결.\n",
    "    conn = pymysql.connect(\n",
    "        host=config['host'],    # DBMS 의 ip(host) : str\n",
    "        port=3306,           # DBMS의 port 번호: int\n",
    "        user=config['user'],        # username: str\n",
    "        password=config['password'],    # password: str\n",
    "        db=config['db']            #  연결할 Database이름: str\n",
    "    )  # 연결 성공하면 연결된 DB와 관련 작업할 수있는 기능을 제공하는 Connection객체를 반환\n",
    "    \n",
    "    # 2. Connection을 사용해서 Cursor 객체 생성\n",
    "    #    Cursor: sql 처리를 하는 기능을 제공.( sql 전송하고 처리결과를 받을 때까지를 관리)\n",
    "    cursor = conn.cursor()\n",
    "\n",
    "    cursor.execute(\"drop table if exists number\")\n",
    "    cursor.execute(\"drop table if exists gu\")\n",
    "    cursor.execute(\"drop table if exists MY\")\n",
    "    cursor.execute(create_MY)\n",
    "    cursor.execute(create_gu)\n",
    "    cursor.execute(create_number)\n",
    "    \n",
    "\n",
    "finally:\n",
    "    # 4. 연결닫기(끊기)\n",
    "    if conn: # conn != None\n",
    "        cursor.close() # 4-1. cursor 연결 닫기\n",
    "        conn.close()  # 4-2. connection 연결 닫기\n",
    "\n",
    "print('실행 완료')"
   ]
  },
  {
   "cell_type": "code",
   "execution_count": 25,
   "id": "44f5faba-7652-4091-821f-688ae96309e7",
   "metadata": {},
   "outputs": [
    {
     "name": "stdout",
     "output_type": "stream",
     "text": [
      "['', '시군구', '시군구', '종로구', '마포구', '강서구', '구로구', '영등포구', '동작구', '관악구', '강남구', '강동구', '송파구', '서초구', '중구', '양천구', '중랑구', '노원구', '광진구', '강북구', '금천구', '용산구', '성동구', '동대문구', '성북구', '도봉구', '은평구', '서대문구']\n",
      "-----------------------------------------------------------\n",
      "['', '2021', '12월', '66', '77', '127', '116', '188', '104', '105', '322', '78', '251', '181', '77', '109', '117', '121', '51', '94', '86', '77', '103', '108', '133', '51', '48', '79']\n",
      "-----------------------------------------------------------\n",
      "28\n",
      "data[0]은 공백, data[1]은 서울표시, data[2]는 구표시, data[3]은 월 및 사고수 표시\n"
     ]
    }
   ],
   "source": [
    "# 파일 형식 확인\n",
    "print(data[2])\n",
    "print(\"-\"*59)\n",
    "print(data[3])\n",
    "print(\"-\"*59)\n",
    "print(len(data))\n",
    "print(\"data[0]은 공백, data[1]은 서울표시, data[2]는 구표시, data[3]은 월 및 사고수 표시\")"
   ]
  },
  {
   "cell_type": "code",
   "execution_count": 26,
   "id": "0e43ea35-a59d-4b54-8828-91560addfa3e",
   "metadata": {},
   "outputs": [
    {
     "name": "stdout",
     "output_type": "stream",
     "text": [
      "insert된 총 행수: 25\n"
     ]
    }
   ],
   "source": [
    "# MY table 받기\n",
    "# 서울 데이터만 불러오고 싶다. 각 구 이름이 있는 위치는 data[i][1] i > 1 이다. 그렇다면 data[i][1] == \"서울\" 인 것만 담는다.\n",
    "\n",
    "# create_MY = \"\"\"\n",
    "# create table MY(\n",
    "#   MY_id  varchar(20)  primary key,\n",
    "#   year varchar(20),\n",
    "#   month varchar(20)\n",
    "# )\n",
    "# \"\"\"\n",
    "\n",
    "data_MY = [] # sql에 최종적으로 넣을 값.\n",
    "\n",
    "for i in range(len(data)-3): # 3행부터 년월이 표기되기 때문\n",
    "    # data 분류 필요\n",
    "    insert_list = [] # 변환되는 값.\n",
    "    year:str = None\n",
    "    month:str = None\n",
    "    year = data[i+3][1] \n",
    "    month = data[i+3][2]\n",
    "    month = month[:-1] # 월 지우기 \n",
    "    MY_id = year + \"-\" + month\n",
    "    insert_list.append(MY_id)\n",
    "    insert_list.append(year)\n",
    "    insert_list.append(month)\n",
    "    data_MY.append(list(insert_list))\n",
    "\n",
    "\n",
    " # insert 하기\n",
    "insert_sql = \"\"\"insert into MY(MY_id, year, month) values(%s, %s, %s)\"\"\"\n",
    "\n",
    "with pymysql.connect(host=config['host'],\n",
    "                     port=3306, user=config['user'],\n",
    "                     password=config['password'],\n",
    "                     db=config['db']) as conn:\n",
    "    with conn.cursor() as cursor:\n",
    "        cnt = cursor.executemany(insert_sql, data_MY)  # executemany() 결과 행수 반환.\n",
    "        conn.commit()\n",
    "        \n",
    "\n",
    "print(\"insert된 총 행수:\", cnt)"
   ]
  },
  {
   "cell_type": "code",
   "execution_count": 27,
   "id": "4fb16605-015e-4093-8436-fcdf49888e49",
   "metadata": {},
   "outputs": [
    {
     "name": "stdout",
     "output_type": "stream",
     "text": [
      "['', '시군구', '시군구', '종로구', '마포구', '강서구', '구로구', '영등포구', '동작구', '관악구', '강남구', '강동구', '송파구', '서초구', '중구', '양천구', '중랑구', '노원구', '광진구', '강북구', '금천구', '용산구', '성동구', '동대문구', '성북구', '도봉구', '은평구', '서대문구']\n",
      "28\n"
     ]
    }
   ],
   "source": [
    "print(data[2])\n",
    "print(len(data[2]))"
   ]
  },
  {
   "cell_type": "code",
   "execution_count": 28,
   "id": "244bf365-83f9-4a10-b6b3-a0abde3bbfcb",
   "metadata": {},
   "outputs": [
    {
     "name": "stdout",
     "output_type": "stream",
     "text": [
      "['종로구', '마포구', '강서구', '구로구', '영등포구', '동작구', '관악구', '강남구', '강동구', '송파구', '서초구', '중구', '양천구', '중랑구', '노원구', '광진구', '강북구', '금천구', '용산구', '성동구', '동대문구', '성북구', '도봉구', '은평구', '서대문구']\n",
      "25\n",
      "insert된 총 행수: 25\n"
     ]
    }
   ],
   "source": [
    "# gu table 받기\n",
    "# 서울 데이터만 불러오고 싶다. 각 구 이름이 있는 위치는 data[i][1] i > 1 이다. 그렇다면 data[i][1] == \"서울\" 인 것만 담는다.\n",
    "\n",
    "# 참고\n",
    "# gu table \n",
    "# create_gu = \"\"\"\n",
    "# create table gu(\n",
    "#   gu_id int auto_increment  primary key,\n",
    "#   gu_name varchar(20) unique\n",
    "# )\n",
    "# \"\"\"\n",
    "\n",
    "data_gu = [] # sql에 최종적으로 넣을 값.\n",
    "\n",
    "\n",
    "for i in range(len(data[2])-3): # 28개 \n",
    "    data_gu.append(data[2][i+3])\n",
    "\n",
    "print(data_gu) # 제대로 입력되었는지 확인\n",
    "print(len(data_gu)) # 길이 확인\n",
    "\n",
    "# insert 하기\n",
    "insert_sql = \"\"\"insert into gu(gu_name) values(%s)\"\"\"\n",
    "\n",
    "with pymysql.connect(host=config['host'],\n",
    "                     port=3306, user=config['user'],\n",
    "                     password=config['password'],\n",
    "                     db=config['db']) as conn:\n",
    "    with conn.cursor() as cursor:\n",
    "        cnt = cursor.executemany(insert_sql, data_gu)  # executemany() 결과 행수 반환.\n",
    "        conn.commit()\n",
    "        \n",
    "\n",
    "print(\"insert된 총 행수:\", cnt)"
   ]
  },
  {
   "cell_type": "code",
   "execution_count": 29,
   "id": "5c17032f-1e12-449a-9a9d-90fb0d09a1b5",
   "metadata": {},
   "outputs": [
    {
     "name": "stdout",
     "output_type": "stream",
     "text": [
      "['', '2021', '12월', '66', '77', '127', '116', '188', '104', '105', '322', '78', '251', '181', '77', '109', '117', '121', '51', '94', '86', '77', '103', '108', '133', '51', '48', '79']\n"
     ]
    }
   ],
   "source": [
    "print(data[3])"
   ]
  },
  {
   "cell_type": "code",
   "execution_count": 33,
   "id": "d54e4e34-9f9a-44f9-be7a-e09f110459c4",
   "metadata": {},
   "outputs": [
    {
     "data": {
      "text/plain": [
       "[[1, '66'], [1, '66', 2, '77']]"
      ]
     },
     "execution_count": 33,
     "metadata": {},
     "output_type": "execute_result"
    }
   ],
   "source": [
    "# number table 받기\n",
    "\n",
    "# 참고\n",
    "# #  사고발생 수(main)\n",
    "# create_number = \"\"\"\n",
    "# create table number(\n",
    "#   number_id  int  auto_increment  primary key,\n",
    "#   gu_id  int,\n",
    "#   MY_id  varchar(20), \n",
    "#   the_number_of_car_accident int,\n",
    "\n",
    "#   CONSTRAINT fk_number_gu FOREIGN KEY (gu_id) REFERENCES gu(gu_id) ON DELETE SET NULL,\n",
    "#   CONSTRAINT fk_number_MY FOREIGN KEY (MY_id) REFERENCES MY(MY_id) ON DELETE SET NULL\n",
    "# )\n",
    "# \"\"\"\n",
    "data_number = [] # sql에 최종적으로 넣을 값.\n",
    "\n",
    "for i in range(len(data)-3): # 기간 할당\n",
    "    insurt_list = []\n",
    "    year:str = None\n",
    "    month:str = None\n",
    "    year = data[i+3][1] \n",
    "    month = data[i+3][2]\n",
    "    month = month[:-1] # 월 지우기 \n",
    "    MY_id = year + \"-\" + month\n",
    "    insert_list.append(MY_id) # MY_id 할당\n",
    "    \n",
    "    for j in range(len(data)-3): # 25번 입력, 각 구의 사고수 할당\n",
    "        if len(insurt_list) > 2: # 할당된 것 삭제\n",
    "            insurt_list.pop()\n",
    "            insurt_list.pop()\n",
    "            insurt_list.append(j+1) # gu_id 할당\n",
    "            insurt_list.append(data[i+3][j+3]) # the_number_of_car_accident 할당\n",
    "            data_number.append(list(insurt_list))\n",
    "        else: # 첫번째 시행\n",
    "            insurt_list.append(j+1) # gu_id 할당\n",
    "            insurt_list.append(data[i+3][j+3])\n",
    "            data_number.append(list(insurt_list))\n",
    "\n",
    "\n",
    "data_number[:2]\n",
    "# # insert 하기\n",
    "# insert_sql = \"\"\"insert into number(MY_id, gu_id, the_number_of_car_accident) values(%s, %s, %s)\"\"\"\n",
    "\n",
    "# with pymysql.connect(host=config['host'],\n",
    "#                      port=3306, user=config['user'],\n",
    "#                      password=config['password'],\n",
    "#                      db=config['db']) as conn:\n",
    "#     with conn.cursor() as cursor:\n",
    "#         cnt = cursor.executemany(insert_sql, data_number)  # executemany() 결과 행수 반환.\n",
    "#         conn.commit()\n",
    "        \n",
    "# # print(\"insert된 총 행수:\", cnt)\n",
    "# print(\"실행 완료\")\n",
    "# print(len(data_number)) # 25*25 = 월 수 * 구 수 / 맞다. "
   ]
  },
  {
   "cell_type": "code",
   "execution_count": null,
   "id": "6ba8db23-d80b-4e5b-96c3-daad5c94167b",
   "metadata": {},
   "outputs": [],
   "source": []
  }
 ],
 "metadata": {
  "kernelspec": {
   "display_name": "Python 3 (ipykernel)",
   "language": "python",
   "name": "python3"
  },
  "language_info": {
   "codemirror_mode": {
    "name": "ipython",
    "version": 3
   },
   "file_extension": ".py",
   "mimetype": "text/x-python",
   "name": "python",
   "nbconvert_exporter": "python",
   "pygments_lexer": "ipython3",
   "version": "3.12.4"
  }
 },
 "nbformat": 4,
 "nbformat_minor": 5
}
