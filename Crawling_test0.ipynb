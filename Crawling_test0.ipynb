{
 "cells": [
  {
   "cell_type": "markdown",
   "id": "42fbc81e-1576-4392-a628-5ff0812a6ce7",
   "metadata": {},
   "source": [
    "# 1번 방법 : 블로그에 준비해둔 데이터를 url통해서 가져오기.\n",
    "## 문제점1 : 블로그는 javascript 기반이라 selenium을 이용해야 한다고 합니다.\n",
    "## 문제점2 : selenium 을 사용한다고 해도 데이터 테이블 자체가 tr, td 로 가지런히 배열된 느낌이 아니에요 초콜릿 판 처럼 독립된 틀이 많아서 이것도 제가 selector 지정을 잘 이해 못하는 문제 같아요"
   ]
  },
  {
   "cell_type": "code",
   "execution_count": null,
   "id": "b10edc97-9b66-45ea-ae28-cc4c80206168",
   "metadata": {},
   "outputs": [],
   "source": [
    "from selenium import webdriver\n",
    "from selenium.webdriver.chrome.service import Service\n",
    "from selenium.webdriver.common.by import By\n",
    "from webdriver_manager.chrome import ChromeDriverManager\n",
    "import time\n",
    "import csv\n",
    "\n",
    "# ChromeDriver 설정\n",
    "driver = webdriver.Chrome(service=Service(ChromeDriverManager().install()))\n",
    "\n",
    "url = 'https://blog.naver.com/hellocube/223615712262'\n",
    "driver.get(url)\n",
    "\n",
    "# 페이지가 로드될 시간을 주기 위해 잠시 대기\n",
    "time.sleep(3)  # 필요한 경우 대기 시간 조정\n",
    "\n",
    "# CSV 파일로 저장\n",
    "with open('table_data.csv', mode='w', newline='', encoding='utf-8') as file:\n",
    "    writer = csv.writer(file)\n",
    "    \n",
    "    # 특정 ID를 가진 span 요소들 선택\n",
    "    span_elements = driver.find_elements(By.CSS_SELECTOR, 'span[id^=\"SE-\"]')  # \"SE-\"로 시작하는 모든 span 요소 선택\n",
    "    \n",
    "    for element in span_elements:\n",
    "        value = element.text.strip()  # 값 추출\n",
    "        writer.writerow([value])  # CSV에 값 저장\n",
    "\n",
    "# 브라우저 닫기\n",
    "driver.quit()\n",
    "\n",
    "print(\"CSV 파일로 저장되었습니다.\")"
   ]
  },
  {
   "cell_type": "markdown",
   "id": "30a16fc1-5a1a-4100-99b1-8b2c6ad5b0f4",
   "metadata": {},
   "source": [
    "# 2번 방법 : 교통정보 사이트에서 url 찾기\n",
    "## 문제점 : url 특정이 어려운 상태. F12누른 후, 네트워크 창에서 url 정보를 찾을 수 있다고 하는데 잘 못찾겠어요\n",
    "### : url만 찾을 수 있다면 selector 찾은 후 코드 작성이 가능할 듯 합니다."
   ]
  },
  {
   "cell_type": "code",
   "execution_count": 1,
   "id": "6be9ad88-3c64-4cc0-99be-79b363dfaad0",
   "metadata": {},
   "outputs": [
    {
     "ename": "AttributeError",
     "evalue": "'NoneType' object has no attribute 'select'",
     "output_type": "error",
     "traceback": [
      "\u001b[1;31m---------------------------------------------------------------------------\u001b[0m",
      "\u001b[1;31mAttributeError\u001b[0m                            Traceback (most recent call last)",
      "Cell \u001b[1;32mIn[1], line 17\u001b[0m\n\u001b[0;32m     15\u001b[0m \u001b[38;5;66;03m# 표 데이터 추출\u001b[39;00m\n\u001b[0;32m     16\u001b[0m table \u001b[38;5;241m=\u001b[39m soup\u001b[38;5;241m.\u001b[39mfind(\u001b[38;5;124m'\u001b[39m\u001b[38;5;124mtable\u001b[39m\u001b[38;5;124m'\u001b[39m)\n\u001b[1;32m---> 17\u001b[0m table_rows \u001b[38;5;241m=\u001b[39m table\u001b[38;5;241m.\u001b[39mselect(\u001b[38;5;124m'\u001b[39m\u001b[38;5;124mtbody tr\u001b[39m\u001b[38;5;124m'\u001b[39m)  \u001b[38;5;66;03m# tbody 내의 모든 행 선택\u001b[39;00m\n\u001b[0;32m     19\u001b[0m \u001b[38;5;66;03m# CSV 파일로 저장\u001b[39;00m\n\u001b[0;32m     20\u001b[0m \u001b[38;5;28;01mwith\u001b[39;00m \u001b[38;5;28mopen\u001b[39m(\u001b[38;5;124m'\u001b[39m\u001b[38;5;124mtable_data.csv\u001b[39m\u001b[38;5;124m'\u001b[39m, mode\u001b[38;5;241m=\u001b[39m\u001b[38;5;124m'\u001b[39m\u001b[38;5;124mw\u001b[39m\u001b[38;5;124m'\u001b[39m, newline\u001b[38;5;241m=\u001b[39m\u001b[38;5;124m'\u001b[39m\u001b[38;5;124m'\u001b[39m, encoding\u001b[38;5;241m=\u001b[39m\u001b[38;5;124m'\u001b[39m\u001b[38;5;124mutf-8\u001b[39m\u001b[38;5;124m'\u001b[39m) \u001b[38;5;28;01mas\u001b[39;00m file:\n",
      "\u001b[1;31mAttributeError\u001b[0m: 'NoneType' object has no attribute 'select'"
     ]
    }
   ],
   "source": [
    "import requests\n",
    "from bs4 import BeautifulSoup\n",
    "import csv\n",
    "\n",
    "# URL 설정\n",
    "url = 'https://taas.koroad.or.kr/sta/acs/exs/selectPatternInfo.do?subjectId=138&patternId=149&termsYn=Y&_ts=1012%7C0719%7C774'\n",
    "\n",
    "# 웹 페이지 요청\n",
    "res = requests.get(url)\n",
    "\n",
    "# 응답 페이지에서 필요한 정보 추출\n",
    "if res.status_code == 200:\n",
    "    soup = BeautifulSoup(res.text, 'html.parser')\n",
    "    \n",
    "    # 표 데이터 추출\n",
    "    table = soup.find('table')\n",
    "    table_rows = table.select('tbody tr')  # tbody 내의 모든 행 선택\n",
    "\n",
    "    # CSV 파일로 저장\n",
    "    with open('table_data.csv', mode='w', newline='', encoding='utf-8') as file:\n",
    "        writer = csv.writer(file)\n",
    "\n",
    "        for row in table_rows:\n",
    "            cells = row.select('td')  # 데이터 셀 선택\n",
    "            cell_data = [cell.get_text(strip=True) for cell in cells]  # 텍스트 추출\n",
    "            writer.writerow(cell_data)\n",
    "\n",
    "    print(\"CSV 파일로 저장되었습니다.\")\n",
    "else:\n",
    "    print(f\"요청 실패. 응답 코드: {res.status_code}\")\n"
   ]
  },
  {
   "cell_type": "markdown",
   "id": "8c3c86cd-cce5-4f88-8d0a-0cd9e9ff4cb9",
   "metadata": {},
   "source": [
    "# 3번 방법 : 외부 통계표를 특정 url로 찾았습니다 현재 방법으로는 가장 가능성이 있어보여요\n",
    "### span class = 'val' 인 값으로 찾으면 좋을 것 같아요\n",
    "### 현재 selector는 #mainTable > tbody > tr:nth-child(9) > td:nth-child(3) > span.val 중에 tr 부분까지 라고 생각합니다.\n"
   ]
  },
  {
   "cell_type": "code",
   "execution_count": 5,
   "id": "619d3e6b-dd89-4bfb-96ee-f8bd2cf9149f",
   "metadata": {},
   "outputs": [
    {
     "name": "stdout",
     "output_type": "stream",
     "text": [
      "Data has been saved to data.csv\n"
     ]
    }
   ],
   "source": [
    "import requests\n",
    "from bs4 import BeautifulSoup\n",
    "import csv\n",
    "\n",
    "# URL 설정\n",
    "url = 'https://stat.eseoul.go.kr/statHtml/statHtml.do?orgId=201&tblId=DT_201004_O100001&conn_path=I2'\n",
    "\n",
    "# 웹 페이지 요청\n",
    "response = requests.get(url)\n",
    "\n",
    "# HTML 파싱\n",
    "soup = BeautifulSoup(response.text, 'html.parser')\n",
    "\n",
    "# span class='val' 요소 찾기\n",
    "values = soup.find_all('span', class_='val')\n",
    "\n",
    "# CSV 파일로 저장\n",
    "with open('data.csv', mode='w', newline='', encoding='utf-8') as file:\n",
    "    writer = csv.writer(file)\n",
    "    writer.writerow(['Value'])  # 헤더 작성\n",
    "    \n",
    "    for value in values:\n",
    "        writer.writerow([value.text])  # 각 값을 한 행에 작성\n",
    "\n",
    "print(\"Data has been saved to data.csv\")\n"
   ]
  }
 ],
 "metadata": {
  "kernelspec": {
   "display_name": "Python 3 (ipykernel)",
   "language": "python",
   "name": "python3"
  },
  "language_info": {
   "codemirror_mode": {
    "name": "ipython",
    "version": 3
   },
   "file_extension": ".py",
   "mimetype": "text/x-python",
   "name": "python",
   "nbconvert_exporter": "python",
   "pygments_lexer": "ipython3",
   "version": "3.12.4"
  }
 },
 "nbformat": 4,
 "nbformat_minor": 5
}
